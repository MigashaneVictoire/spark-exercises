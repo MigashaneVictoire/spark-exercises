{
 "cells": [
  {
   "cell_type": "markdown",
   "id": "37544e3b",
   "metadata": {
    "id": "37544e3b"
   },
   "source": [
    "# MNIST Dataset using TensorFlow\n",
    "### Setup"
   ]
  },
  {
   "cell_type": "markdown",
   "id": "61c43e1a",
   "metadata": {
    "id": "61c43e1a"
   },
   "source": [
    "# Run this notebook in Google Colab!\n",
    "\n",
    "## If you dare to try to set this up on your local machine (macbook) run the following commands in your terminal. Proceed at your own risk!\n",
    "- conda install -c apple tensorflow-deps\n",
    "- python -m pip install tensorflow-macos\n",
    "- pip install tensorflow-datasets\n",
    "- NOTE: DO NOT INSTALL THIS ON M1 MAC! As of Jan 17 2023 \"python -m pip install tensorflow-metal\" will not work for M1 Mac GPU Acceleration. Due to this the model will be trained on the CPU. DO NOT INSTALL THIS ON M1 MAC!"
   ]
  },
  {
   "cell_type": "code",
   "execution_count": null,
   "id": "b9f82bec",
   "metadata": {
    "id": "b9f82bec"
   },
   "outputs": [],
   "source": [
    "import tensorflow as tf\n",
    "import numpy as np\n",
    "import pandas as pd\n",
    "import matplotlib.pyplot as plt"
   ]
  },
  {
   "cell_type": "code",
   "execution_count": null,
   "id": "RzYIEz2gZlvt",
   "metadata": {
    "colab": {
     "base_uri": "https://localhost:8080/"
    },
    "id": "RzYIEz2gZlvt",
    "outputId": "c2d63399-0b31-4934-b6e0-8989db755e66"
   },
   "outputs": [],
   "source": [
    "# Check if we are running off a GPU, if not we can change the runtime in the \"Runtime\" tab up top\n",
    "tf.config.list_physical_devices()"
   ]
  },
  {
   "cell_type": "code",
   "execution_count": null,
   "id": "xsqrXai1ZzWX",
   "metadata": {
    "colab": {
     "base_uri": "https://localhost:8080/"
    },
    "id": "xsqrXai1ZzWX",
    "outputId": "edee79c5-6bea-4fd6-9930-23df3d9f01e9"
   },
   "outputs": [],
   "source": [
    "!nvidia-smi"
   ]
  },
  {
   "cell_type": "code",
   "execution_count": null,
   "id": "6fdc614b",
   "metadata": {
    "colab": {
     "base_uri": "https://localhost:8080/"
    },
    "id": "6fdc614b",
    "outputId": "758ae759-061d-44b1-ff2a-d600e7ce9b07"
   },
   "outputs": [],
   "source": [
    "#Loading the dataset\n",
    "(X_train, y_train), (X_test, y_test) = tf.keras.datasets.mnist.load_data()"
   ]
  },
  {
   "cell_type": "code",
   "execution_count": null,
   "id": "AdODaHMY5enh",
   "metadata": {
    "colab": {
     "base_uri": "https://localhost:8080/"
    },
    "id": "AdODaHMY5enh",
    "outputId": "def82971-16d5-4b5d-d7ee-a86dac720b79"
   },
   "outputs": [],
   "source": [
    "X_train.shape"
   ]
  },
  {
   "cell_type": "code",
   "execution_count": null,
   "id": "J8npMVycx_vM",
   "metadata": {
    "id": "J8npMVycx_vM"
   },
   "outputs": [],
   "source": [
    "# For the most part you will be working with tensors instead of arrays/matrcies.\n",
    "# Lets take a look at what a tensor is by making one.\n",
    "\n",
    "scaler = tf.constant(1)"
   ]
  },
  {
   "cell_type": "code",
   "execution_count": null,
   "id": "3HN2r6t6yVWe",
   "metadata": {
    "colab": {
     "base_uri": "https://localhost:8080/"
    },
    "id": "3HN2r6t6yVWe",
    "outputId": "349d4e08-7e61-4789-e394-c5ec2b46d178"
   },
   "outputs": [],
   "source": [
    "scaler.shape"
   ]
  },
  {
   "cell_type": "code",
   "execution_count": null,
   "id": "3Oyx36p2yxjN",
   "metadata": {
    "colab": {
     "base_uri": "https://localhost:8080/"
    },
    "id": "3Oyx36p2yxjN",
    "outputId": "e0a705f3-5698-44d2-8358-90d97b0ac8a2"
   },
   "outputs": [],
   "source": [
    "scaler.ndim"
   ]
  },
  {
   "cell_type": "code",
   "execution_count": null,
   "id": "SLN9azZ7y1gJ",
   "metadata": {
    "id": "SLN9azZ7y1gJ"
   },
   "outputs": [],
   "source": [
    "vector = tf.constant([1,2,3])"
   ]
  },
  {
   "cell_type": "code",
   "execution_count": null,
   "id": "IBTogRajzane",
   "metadata": {
    "colab": {
     "base_uri": "https://localhost:8080/"
    },
    "id": "IBTogRajzane",
    "outputId": "983cdcdf-0c60-4561-ad8d-f16832bc3d59"
   },
   "outputs": [],
   "source": [
    "vector.shape"
   ]
  },
  {
   "cell_type": "code",
   "execution_count": null,
   "id": "3yAEu2D-zcd3",
   "metadata": {
    "colab": {
     "base_uri": "https://localhost:8080/"
    },
    "id": "3yAEu2D-zcd3",
    "outputId": "535b1958-9256-4ced-cb43-780537f73ad1"
   },
   "outputs": [],
   "source": [
    "vector.ndim"
   ]
  },
  {
   "cell_type": "code",
   "execution_count": null,
   "id": "kMvOBOj4ze0D",
   "metadata": {
    "id": "kMvOBOj4ze0D"
   },
   "outputs": [],
   "source": [
    "matrix = tf.constant([[1,2,3],\n",
    "                     [4,5,6],\n",
    "                     [7,8,9]])"
   ]
  },
  {
   "cell_type": "code",
   "execution_count": null,
   "id": "2HiM50mWzuXB",
   "metadata": {
    "colab": {
     "base_uri": "https://localhost:8080/"
    },
    "id": "2HiM50mWzuXB",
    "outputId": "6d5e07ac-b9b6-44ad-eabc-1044042fb517"
   },
   "outputs": [],
   "source": [
    "matrix.shape"
   ]
  },
  {
   "cell_type": "code",
   "execution_count": null,
   "id": "pehNgU2azxWn",
   "metadata": {
    "colab": {
     "base_uri": "https://localhost:8080/"
    },
    "id": "pehNgU2azxWn",
    "outputId": "56152142-ad03-4e5b-dd03-93d68f373cf9"
   },
   "outputs": [],
   "source": [
    "matrix.ndim"
   ]
  },
  {
   "cell_type": "code",
   "execution_count": null,
   "id": "3ywRKBQQz2o9",
   "metadata": {
    "id": "3ywRKBQQz2o9"
   },
   "outputs": [],
   "source": [
    "tensor = tf.ones(shape=(2,3,4))"
   ]
  },
  {
   "cell_type": "code",
   "execution_count": null,
   "id": "u2wY3BGd0yHo",
   "metadata": {
    "colab": {
     "base_uri": "https://localhost:8080/"
    },
    "id": "u2wY3BGd0yHo",
    "outputId": "a0a4abf6-edc5-4ef7-b573-4a870abde914"
   },
   "outputs": [],
   "source": [
    "tensor"
   ]
  },
  {
   "cell_type": "code",
   "execution_count": null,
   "id": "xa3d-Vf20pc1",
   "metadata": {
    "colab": {
     "base_uri": "https://localhost:8080/"
    },
    "id": "xa3d-Vf20pc1",
    "outputId": "604f88b0-e9d5-40e9-8459-512a1d9c1929"
   },
   "outputs": [],
   "source": [
    "tensor.shape"
   ]
  },
  {
   "cell_type": "code",
   "execution_count": null,
   "id": "KXhxHl7F0t_e",
   "metadata": {
    "colab": {
     "base_uri": "https://localhost:8080/"
    },
    "id": "KXhxHl7F0t_e",
    "outputId": "05105ef2-e8cf-4496-91a2-e66dc7557504"
   },
   "outputs": [],
   "source": [
    "tensor.ndim"
   ]
  },
  {
   "cell_type": "code",
   "execution_count": null,
   "id": "Kn77Tsfj67YZ",
   "metadata": {
    "colab": {
     "base_uri": "https://localhost:8080/"
    },
    "id": "Kn77Tsfj67YZ",
    "outputId": "4548fa9a-ddd8-4e82-f969-a1dbc18c7da3"
   },
   "outputs": [],
   "source": [
    "type(X_train)"
   ]
  },
  {
   "cell_type": "code",
   "execution_count": null,
   "id": "Lkau4ePH5_20",
   "metadata": {
    "id": "Lkau4ePH5_20"
   },
   "outputs": [],
   "source": [
    "# It is good practice to always convert data over to tensors as it provides us extra functionality \n",
    "# the same way a numpy array adds extra functionality to a list. Only do this with you features, not target.\n",
    "X_train = tf.constant(X_train)\n",
    "\n",
    "X_test = tf.constant(X_test)"
   ]
  },
  {
   "cell_type": "code",
   "execution_count": null,
   "id": "bMg4deVc7UOk",
   "metadata": {
    "colab": {
     "base_uri": "https://localhost:8080/"
    },
    "id": "bMg4deVc7UOk",
    "outputId": "fe57477a-0c5f-4406-a344-3c21f77cea72"
   },
   "outputs": [],
   "source": [
    "X_train.ndim"
   ]
  },
  {
   "cell_type": "code",
   "execution_count": null,
   "id": "ce3e7949",
   "metadata": {
    "colab": {
     "base_uri": "https://localhost:8080/"
    },
    "id": "ce3e7949",
    "outputId": "6d9426ee-5f8c-431a-a693-e25ac2759128",
    "scrolled": true
   },
   "outputs": [],
   "source": [
    "#peak at the data\n",
    "#each index is one observation(image) represented in a multi-dimensional tensor\n",
    "X_train[0]"
   ]
  },
  {
   "cell_type": "code",
   "execution_count": null,
   "id": "79d5350b",
   "metadata": {
    "colab": {
     "base_uri": "https://localhost:8080/"
    },
    "id": "79d5350b",
    "outputId": "d58adcf2-a9f1-4ccd-e1b2-0a9413ea67dc"
   },
   "outputs": [],
   "source": [
    "#each individual array is one numpy array representing one row of pixels\n",
    "X_train[0][0]"
   ]
  },
  {
   "cell_type": "code",
   "execution_count": null,
   "id": "fa03a4ca",
   "metadata": {
    "colab": {
     "base_uri": "https://localhost:8080/"
    },
    "id": "fa03a4ca",
    "outputId": "01ea566a-a89d-45f8-ce8d-41069b737787"
   },
   "outputs": [],
   "source": [
    "y_train[0]"
   ]
  },
  {
   "cell_type": "code",
   "execution_count": null,
   "id": "bd1f7528",
   "metadata": {
    "colab": {
     "base_uri": "https://localhost:8080/"
    },
    "id": "bd1f7528",
    "outputId": "37727fd2-a9d6-4fe1-a850-b2b668048d80"
   },
   "outputs": [],
   "source": [
    "#how our data is split\n",
    "print(\"Train Feature Matrix:\", X_train.shape)\n",
    "print(\"Test Feature Matrix:\", X_test.shape)\n",
    "print(\"Train Target Matrix:\", y_train.shape)\n",
    "print(\"Test Target Matrix:\", y_test.shape)"
   ]
  },
  {
   "cell_type": "code",
   "execution_count": null,
   "id": "01d94fcb",
   "metadata": {
    "colab": {
     "base_uri": "https://localhost:8080/",
     "height": 435
    },
    "id": "01d94fcb",
    "outputId": "efdd7ba5-9118-432d-8ab6-57d7cb321c5c"
   },
   "outputs": [],
   "source": [
    "#a look at some observations\n",
    "fig, ax = plt.subplots(10, 10)\n",
    "k = 0\n",
    "for i in range(10):\n",
    "    for j in range(10):\n",
    "        ax[i][j].imshow(X_train[k], aspect='auto')\n",
    "        k += 1\n",
    "plt.show()"
   ]
  },
  {
   "cell_type": "code",
   "execution_count": null,
   "id": "a311a85d",
   "metadata": {
    "id": "a311a85d"
   },
   "outputs": [],
   "source": [
    "#defining our model\n",
    "#sequential = feed forward network\n",
    "model = tf.keras.Sequential([\n",
    "    \n",
    "    # reshape 28 row * 28 column data to 28*28 rows\n",
    "    tf.keras.layers.Flatten(input_shape=(28, 28)),\n",
    "    \n",
    "      # dense(hidden) layer 1\n",
    "    tf.keras.layers.Dense(256, activation='sigmoid'),  \n",
    "    \n",
    "    # dense(hidden) layer 2\n",
    "    tf.keras.layers.Dense(128, activation='sigmoid'), \n",
    "    \n",
    "      # output layer\n",
    "    tf.keras.layers.Dense(10, activation='sigmoid'),  \n",
    "])"
   ]
  },
  {
   "cell_type": "code",
   "execution_count": null,
   "id": "672d9774",
   "metadata": {
    "colab": {
     "base_uri": "https://localhost:8080/"
    },
    "id": "672d9774",
    "outputId": "78a0237e-5660-4a17-88e3-a49215c66f3c"
   },
   "outputs": [],
   "source": [
    "model"
   ]
  },
  {
   "cell_type": "code",
   "execution_count": null,
   "id": "cc2a211b",
   "metadata": {
    "id": "cc2a211b"
   },
   "outputs": [],
   "source": [
    "#we need to \"compile\" our model by specifying our optimizer(how it learns), \n",
    "#how to calculate our cost function(loss),\n",
    "#and what our metric is\n",
    "model.compile(optimizer='adam',\n",
    "              loss='sparse_categorical_crossentropy',\n",
    "              metrics=['accuracy'])"
   ]
  },
  {
   "cell_type": "code",
   "execution_count": null,
   "id": "fe636b10",
   "metadata": {
    "colab": {
     "base_uri": "https://localhost:8080/"
    },
    "id": "fe636b10",
    "outputId": "9358181f-573a-4d49-a23a-40f66016a044"
   },
   "outputs": [],
   "source": [
    "#we train our model like any other with a x_train and y_train\n",
    "#epochs is how many times we update our weights\n",
    "#batch size is how many observation to look at while preforming SGD\n",
    "#we can define a validation split between our epochs to determine how well it does with out of sample data\n",
    "#I am going to save our fit back to a variable for later use\n",
    "history = model.fit(X_train, y_train, epochs=100, \n",
    "          batch_size=2000, \n",
    "          validation_split=0.2)"
   ]
  },
  {
   "cell_type": "code",
   "execution_count": null,
   "id": "0a526abf",
   "metadata": {
    "colab": {
     "base_uri": "https://localhost:8080/"
    },
    "id": "0a526abf",
    "outputId": "d4b0d4a6-e956-44ba-c4de-661c2d46dcc9"
   },
   "outputs": [],
   "source": [
    "#final model score against our test data\n",
    "results = model.evaluate(X_test,  y_test, verbose = 0)\n",
    "print('test loss, test acc:', results)"
   ]
  },
  {
   "cell_type": "code",
   "execution_count": null,
   "id": "NkoJYd6fLDz3",
   "metadata": {
    "colab": {
     "base_uri": "https://localhost:8080/"
    },
    "id": "NkoJYd6fLDz3",
    "outputId": "39f8be2f-4100-4912-fb62-15117ab694b0"
   },
   "outputs": [],
   "source": [
    "predictions = model.predict(tf.expand_dims(X_train[0], axis=0))"
   ]
  },
  {
   "cell_type": "code",
   "execution_count": null,
   "id": "zwnEK1FligpQ",
   "metadata": {
    "colab": {
     "base_uri": "https://localhost:8080/"
    },
    "id": "zwnEK1FligpQ",
    "outputId": "dea996aa-be56-4b2f-ad3a-9afc0f1cc16a"
   },
   "outputs": [],
   "source": [
    "predictions"
   ]
  },
  {
   "cell_type": "code",
   "execution_count": null,
   "id": "97vJwd_Fik43",
   "metadata": {
    "colab": {
     "base_uri": "https://localhost:8080/"
    },
    "id": "97vJwd_Fik43",
    "outputId": "ee9c4dc7-2e39-4670-904b-7cb8c9ac8fba"
   },
   "outputs": [],
   "source": [
    "# We can see what prediction the model made using np.argmax on our predictions array\n",
    "np.argmax(predictions)"
   ]
  },
  {
   "cell_type": "code",
   "execution_count": null,
   "id": "2-bEz6AUMvkL",
   "metadata": {
    "colab": {
     "base_uri": "https://localhost:8080/"
    },
    "id": "2-bEz6AUMvkL",
    "outputId": "6da6ef95-6192-4ea3-e398-05626d6c09c0"
   },
   "outputs": [],
   "source": [
    "# Our actual\n",
    "y_train[0]"
   ]
  },
  {
   "cell_type": "code",
   "execution_count": null,
   "id": "ICcwsLo_Rn1P",
   "metadata": {
    "id": "ICcwsLo_Rn1P"
   },
   "outputs": [],
   "source": [
    "history_df = pd.DataFrame(history.history)"
   ]
  },
  {
   "cell_type": "code",
   "execution_count": null,
   "id": "z4-RahGBR9Ip",
   "metadata": {
    "colab": {
     "base_uri": "https://localhost:8080/",
     "height": 206
    },
    "id": "z4-RahGBR9Ip",
    "outputId": "f753ab43-6b52-438d-99c1-d6ccab9bac07"
   },
   "outputs": [],
   "source": [
    "history_df.head()"
   ]
  },
  {
   "cell_type": "code",
   "execution_count": null,
   "id": "kZTPJ0M4P5sv",
   "metadata": {
    "colab": {
     "base_uri": "https://localhost:8080/",
     "height": 466
    },
    "id": "kZTPJ0M4P5sv",
    "outputId": "c8b3c835-16e0-426e-c0ea-b0d8d120e71b"
   },
   "outputs": [],
   "source": [
    "# It looks like our model is reaching the point of diminshing returns with epochs. Let's take a look\n",
    "history_df.accuracy.plot()\n",
    "plt.xlabel('Epochs')\n",
    "plt.ylabel('Accuracy')"
   ]
  },
  {
   "cell_type": "code",
   "execution_count": null,
   "id": "xb_blo2USPsJ",
   "metadata": {
    "colab": {
     "base_uri": "https://localhost:8080/",
     "height": 468
    },
    "id": "xb_blo2USPsJ",
    "outputId": "1f7f7e77-e0a3-4069-8ab7-77846afe7638"
   },
   "outputs": [],
   "source": [
    "history_df.loss.plot()\n",
    "plt.xlabel('Epochs')\n",
    "plt.ylabel('Loss')"
   ]
  },
  {
   "cell_type": "code",
   "execution_count": null,
   "id": "voEglxCtQvud",
   "metadata": {
    "colab": {
     "base_uri": "https://localhost:8080/"
    },
    "id": "voEglxCtQvud",
    "outputId": "b5339faa-d205-4e35-c0b2-1b10401b7695"
   },
   "outputs": [],
   "source": [
    "# How can we stop it early if we don't need to contuniue training\n",
    "#defining our model\n",
    "#sequential = feed forward network\n",
    "model2 = tf.keras.Sequential([\n",
    "    \n",
    "    # reshape 28 row * 28 column data to 28*28 rows\n",
    "    tf.keras.layers.Flatten(input_shape=(28, 28)),\n",
    "    \n",
    "      # dense(hidden) layer 1\n",
    "    tf.keras.layers.Dense(256, activation='sigmoid'),  \n",
    "    \n",
    "    # dense(hidden) layer 2\n",
    "    tf.keras.layers.Dense(128, activation='sigmoid'), \n",
    "    \n",
    "      # output layer\n",
    "    tf.keras.layers.Dense(10, activation='sigmoid'),  \n",
    "])\n",
    "\n",
    "model2.compile(optimizer='adam',\n",
    "              loss='sparse_categorical_crossentropy',\n",
    "              metrics=['accuracy'])\n",
    "\n",
    "callback = tf.keras.callbacks.EarlyStopping(monitor='loss', patience=3)\n",
    "\n",
    "history2 = model2.fit(X_train, y_train, epochs=100, \n",
    "          batch_size=2000, \n",
    "          validation_split=0.2,\n",
    "          callbacks = [callback])"
   ]
  },
  {
   "cell_type": "code",
   "execution_count": null,
   "id": "0cOYRZDzTxgP",
   "metadata": {
    "colab": {
     "base_uri": "https://localhost:8080/",
     "height": 881
    },
    "id": "0cOYRZDzTxgP",
    "outputId": "a6f18cc1-4571-4651-bdf9-2440d7765557"
   },
   "outputs": [],
   "source": [
    "# stopped early!, Let's replot\n",
    "history_df2 = pd.DataFrame(history2.history)\n",
    "\n",
    "history_df2.accuracy.plot()\n",
    "plt.xlabel('Epochs')\n",
    "plt.ylabel('Accuracy')\n",
    "plt.show()\n",
    "\n",
    "history_df2.loss.plot()\n",
    "plt.xlabel('Epochs')\n",
    "plt.ylabel('Loss')\n",
    "plt.show()"
   ]
  },
  {
   "cell_type": "code",
   "execution_count": null,
   "id": "0t1iQ2AMjSEi",
   "metadata": {
    "id": "0t1iQ2AMjSEi"
   },
   "outputs": [],
   "source": [
    "# Once we are happy we can save our model for later\n",
    "model2.save('bestmodel')"
   ]
  },
  {
   "cell_type": "code",
   "execution_count": null,
   "id": "jN26BbUtjahc",
   "metadata": {
    "id": "jN26BbUtjahc"
   },
   "outputs": [],
   "source": [
    "# We can also load it up to use for predictions\n",
    "new_model = tf.keras.models.load_model('bestmodel')"
   ]
  },
  {
   "cell_type": "code",
   "execution_count": null,
   "id": "ERLFcR8Tjj7i",
   "metadata": {
    "colab": {
     "base_uri": "https://localhost:8080/"
    },
    "id": "ERLFcR8Tjj7i",
    "outputId": "9b9dace6-5c7e-412a-970b-80c0cf8d5613"
   },
   "outputs": [],
   "source": [
    "new_model"
   ]
  },
  {
   "cell_type": "code",
   "execution_count": null,
   "id": "yZt2VcS9jlLv",
   "metadata": {
    "colab": {
     "base_uri": "https://localhost:8080/"
    },
    "id": "yZt2VcS9jlLv",
    "outputId": "8b4d37c7-39b0-4d23-f024-06982a458ef8"
   },
   "outputs": [],
   "source": [
    "new_model.predict(tf.expand_dims(X_train[0], axis=0))"
   ]
  },
  {
   "cell_type": "code",
   "execution_count": null,
   "id": "PIjE-SkTjo1k",
   "metadata": {
    "colab": {
     "base_uri": "https://localhost:8080/"
    },
    "id": "PIjE-SkTjo1k",
    "outputId": "52688735-6b70-4852-ed47-e1bae9c3e5f9"
   },
   "outputs": [],
   "source": [
    "y_train[0]"
   ]
  }
 ],
 "metadata": {
  "accelerator": "GPU",
  "colab": {
   "gpuType": "T4",
   "provenance": []
  },
  "gpuClass": "standard",
  "kernelspec": {
   "display_name": "Python 3 (ipykernel)",
   "language": "python",
   "name": "python3"
  },
  "language_info": {
   "codemirror_mode": {
    "name": "ipython",
    "version": 3
   },
   "file_extension": ".py",
   "mimetype": "text/x-python",
   "name": "python",
   "nbconvert_exporter": "python",
   "pygments_lexer": "ipython3",
   "version": "3.11.3"
  }
 },
 "nbformat": 4,
 "nbformat_minor": 5
}
