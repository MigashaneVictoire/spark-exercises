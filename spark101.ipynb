{
 "cells": [
  {
   "cell_type": "code",
   "execution_count": 1,
   "id": "a6960fed-c5e3-433d-8acb-cefd46b944a8",
   "metadata": {},
   "outputs": [],
   "source": [
    "# from pyspark import SparkSession as sp\n",
    "import pyspark as sp\n",
    "from pydataset import data\n",
    "from vega_datasets import data as vdata\n",
    "import pyspark.sql.functions as sqlFunc\n",
    "\n",
    "import warnings\n",
    "import pandas as pd\n",
    "import numpy as np\n",
    "\n",
    "warnings.filterwarnings(\"ignore\")"
   ]
  },
  {
   "cell_type": "markdown",
   "id": "d949edc6-5db4-4998-8e03-3f63bd343747",
   "metadata": {},
   "source": [
    "**Create a spark session**"
   ]
  },
  {
   "cell_type": "code",
   "execution_count": 2,
   "id": "194d7db0-dafa-42b5-8756-e3758886e890",
   "metadata": {},
   "outputs": [
    {
     "name": "stderr",
     "output_type": "stream",
     "text": [
      "Setting default log level to \"WARN\".\n",
      "To adjust logging level use sc.setLogLevel(newLevel). For SparkR, use setLogLevel(newLevel).\n",
      "23/08/23 12:51:58 WARN NativeCodeLoader: Unable to load native-hadoop library for your platform... using builtin-java classes where applicable\n"
     ]
    }
   ],
   "source": [
    "sp = sp.sql.SparkSession.builder.getOrCreate()"
   ]
  },
  {
   "cell_type": "markdown",
   "id": "7ef7e0a5-9d1c-4430-940d-a17c86758562",
   "metadata": {},
   "source": [
    "### Create a spark data frame that contains your favorite programming languages.\n",
    "\n",
    "- The name of the column should be language\n",
    "- View the schema of the dataframe\n",
    "- Output the shape of the dataframe\n",
    "- Show the first 5 records in the dataframe"
   ]
  },
  {
   "cell_type": "code",
   "execution_count": 3,
   "id": "14d09640-e086-4df8-9660-dc7f566b047a",
   "metadata": {},
   "outputs": [],
   "source": [
    "# create a dataframe\n",
    "languages = [\"Python\", \"Java\", \"C++\", \"JavaScript\", \"C#\", \"Ruby\", \"Swift\", \"Go\", \"Rust\", \"Kotlin\", \"PHP\", \"Perl\", \"Haskell\", \"Scala\", \"Lua\", \"TypeScript\", \"R\", \"Dart\", \"Elixir\", \"Julia\"]\n",
    "# create a pandas df\n",
    "df = pd.DataFrame(languages, columns=[\"languages\"])\n",
    "# convert pandas dataframe to spark dataframe\n",
    "sdf = sp.createDataFrame(df)"
   ]
  },
  {
   "cell_type": "code",
   "execution_count": 4,
   "id": "a8515f3c-8c58-46a3-ba3f-a2d92149b6c4",
   "metadata": {},
   "outputs": [
    {
     "name": "stderr",
     "output_type": "stream",
     "text": [
      "                                                                                \r"
     ]
    },
    {
     "data": {
      "text/plain": [
       "(20, 1)"
      ]
     },
     "execution_count": 4,
     "metadata": {},
     "output_type": "execute_result"
    }
   ],
   "source": [
    "# show the shape of the dataframe\n",
    "sdf.count(),len(sdf.columns)"
   ]
  },
  {
   "cell_type": "code",
   "execution_count": 5,
   "id": "da65fdd3-fb01-4c6b-9b38-0006c7cb364f",
   "metadata": {},
   "outputs": [
    {
     "name": "stderr",
     "output_type": "stream",
     "text": [
      "[Stage 3:>                                                        (0 + 10) / 10]\r"
     ]
    },
    {
     "name": "stdout",
     "output_type": "stream",
     "text": [
      "+-------+----------+\n",
      "|summary| languages|\n",
      "+-------+----------+\n",
      "|  count|        20|\n",
      "|   mean|      null|\n",
      "| stddev|      null|\n",
      "|    min|        C#|\n",
      "|    max|TypeScript|\n",
      "+-------+----------+\n",
      "\n"
     ]
    },
    {
     "name": "stderr",
     "output_type": "stream",
     "text": [
      "                                                                                \r"
     ]
    }
   ],
   "source": [
    "# show dataframe discription\n",
    "sdf.describe().show()"
   ]
  },
  {
   "cell_type": "code",
   "execution_count": 6,
   "id": "b01c4880-c932-4cf5-bcae-f634b2987465",
   "metadata": {},
   "outputs": [
    {
     "name": "stdout",
     "output_type": "stream",
     "text": [
      "+----------+\n",
      "| languages|\n",
      "+----------+\n",
      "|    Python|\n",
      "|      Java|\n",
      "|       C++|\n",
      "|JavaScript|\n",
      "|        C#|\n",
      "+----------+\n",
      "only showing top 5 rows\n",
      "\n"
     ]
    }
   ],
   "source": [
    "# show the spark dataframe head\n",
    "sdf.show(5)"
   ]
  },
  {
   "cell_type": "markdown",
   "id": "d0027066-4a99-4fe0-af63-64accba4ee17",
   "metadata": {},
   "source": [
    "### Load the mpg dataset as a spark dataframe.\n",
    "- Create 1 column of output that contains a message like the one below:\n",
    "\n",
    "```The 1999 audi a4 has a 4 cylinder engine.```\n",
    "For each vehicle.\n",
    "\n",
    "- Transform the trans column so that it only contains either manual or auto."
   ]
  },
  {
   "cell_type": "code",
   "execution_count": 7,
   "id": "312ab38b-d2f1-43d7-a0c8-aeee955193e7",
   "metadata": {},
   "outputs": [],
   "source": [
    "# load mpg data\n",
    "mpg = data(\"mpg\")\n",
    "# Converto to spark\n",
    "mpg = sp.createDataFrame(mpg)"
   ]
  },
  {
   "cell_type": "code",
   "execution_count": 8,
   "id": "83b9e3b8-7d1c-4840-9bd6-691ed5232145",
   "metadata": {},
   "outputs": [
    {
     "name": "stdout",
     "output_type": "stream",
     "text": [
      "+------------+-----+-----+----+---+----------+---+---+---+---+-------+\n",
      "|manufacturer|model|displ|year|cyl|     trans|drv|cty|hwy| fl|  class|\n",
      "+------------+-----+-----+----+---+----------+---+---+---+---+-------+\n",
      "|        audi|   a4|  1.8|1999|  4|  auto(l5)|  f| 18| 29|  p|compact|\n",
      "|        audi|   a4|  1.8|1999|  4|manual(m5)|  f| 21| 29|  p|compact|\n",
      "|        audi|   a4|  2.0|2008|  4|manual(m6)|  f| 20| 31|  p|compact|\n",
      "|        audi|   a4|  2.0|2008|  4|  auto(av)|  f| 21| 30|  p|compact|\n",
      "|        audi|   a4|  2.8|1999|  6|  auto(l5)|  f| 16| 26|  p|compact|\n",
      "+------------+-----+-----+----+---+----------+---+---+---+---+-------+\n",
      "only showing top 5 rows\n",
      "\n"
     ]
    }
   ],
   "source": [
    "mpg.show(5)"
   ]
  },
  {
   "cell_type": "code",
   "execution_count": 9,
   "id": "2bc1b85f-b521-4c7f-a7b5-de7ab6f4a070",
   "metadata": {},
   "outputs": [
    {
     "name": "stdout",
     "output_type": "stream",
     "text": [
      "+----+------------+-----+---+\n",
      "|year|manufacturer|model|cyl|\n",
      "+----+------------+-----+---+\n",
      "|1999|        audi|   a4|  4|\n",
      "|1999|        audi|   a4|  4|\n",
      "|2008|        audi|   a4|  4|\n",
      "|2008|        audi|   a4|  4|\n",
      "|1999|        audi|   a4|  6|\n",
      "+----+------------+-----+---+\n",
      "only showing top 5 rows\n",
      "\n"
     ]
    }
   ],
   "source": [
    "# The 1999 audi a4 has a 4 cylinder engine. For each vehicle.\n",
    "mpg.select(mpg.year, mpg.manufacturer, mpg.model, mpg.cyl).show(5)"
   ]
  },
  {
   "cell_type": "code",
   "execution_count": 10,
   "id": "ae5dc154-aeea-4f08-84d1-826dc5e9b787",
   "metadata": {},
   "outputs": [
    {
     "name": "stdout",
     "output_type": "stream",
     "text": [
      "+----------+-----+\n",
      "|     trans|count|\n",
      "+----------+-----+\n",
      "|  auto(l4)|   83|\n",
      "|manual(m6)|   19|\n",
      "|  auto(s6)|   16|\n",
      "|  auto(l5)|   39|\n",
      "|manual(m5)|   58|\n",
      "|  auto(av)|    5|\n",
      "|  auto(l3)|    2|\n",
      "|  auto(l6)|    6|\n",
      "|  auto(s5)|    3|\n",
      "|  auto(s4)|    3|\n",
      "+----------+-----+\n",
      "\n"
     ]
    }
   ],
   "source": [
    "# get value counts\n",
    "mpg.groupby(\"trans\").count().show()"
   ]
  },
  {
   "cell_type": "code",
   "execution_count": 11,
   "id": "9d3b447b-ad45-48c6-a91d-7967ae4a34c7",
   "metadata": {},
   "outputs": [
    {
     "name": "stdout",
     "output_type": "stream",
     "text": [
      "+------------+------------------+-----+----+---+----------+---+---+---+---+-------+\n",
      "|manufacturer|             model|displ|year|cyl|     trans|drv|cty|hwy| fl|  class|\n",
      "+------------+------------------+-----+----+---+----------+---+---+---+---+-------+\n",
      "|        audi|                a4|  1.8|1999|  4|  auto(l5)|  f| 18| 29|  p|compact|\n",
      "|        audi|                a4|  1.8|1999|  4|manual(m5)|  f| 21| 29|  p|compact|\n",
      "|        audi|                a4|  2.0|2008|  4|manual(m6)|  f| 20| 31|  p|compact|\n",
      "|        audi|                a4|  2.0|2008|  4|  auto(av)|  f| 21| 30|  p|compact|\n",
      "|        audi|                a4|  2.8|1999|  6|  auto(l5)|  f| 16| 26|  p|compact|\n",
      "|        audi|                a4|  2.8|1999|  6|manual(m5)|  f| 18| 26|  p|compact|\n",
      "|        audi|                a4|  3.1|2008|  6|  auto(av)|  f| 18| 27|  p|compact|\n",
      "|        audi|        a4 quattro|  1.8|1999|  4|manual(m5)|  4| 18| 26|  p|compact|\n",
      "|        audi|        a4 quattro|  1.8|1999|  4|  auto(l5)|  4| 16| 25|  p|compact|\n",
      "|        audi|        a4 quattro|  2.0|2008|  4|manual(m6)|  4| 20| 28|  p|compact|\n",
      "|        audi|        a4 quattro|  2.0|2008|  4|  auto(s6)|  4| 19| 27|  p|compact|\n",
      "|        audi|        a4 quattro|  2.8|1999|  6|  auto(l5)|  4| 15| 25|  p|compact|\n",
      "|        audi|        a4 quattro|  2.8|1999|  6|manual(m5)|  4| 17| 25|  p|compact|\n",
      "|        audi|        a4 quattro|  3.1|2008|  6|  auto(s6)|  4| 17| 25|  p|compact|\n",
      "|        audi|        a4 quattro|  3.1|2008|  6|manual(m6)|  4| 15| 25|  p|compact|\n",
      "|        audi|        a6 quattro|  2.8|1999|  6|  auto(l5)|  4| 15| 24|  p|midsize|\n",
      "|        audi|        a6 quattro|  3.1|2008|  6|  auto(s6)|  4| 17| 25|  p|midsize|\n",
      "|        audi|        a6 quattro|  4.2|2008|  8|  auto(s6)|  4| 16| 23|  p|midsize|\n",
      "|   chevrolet|c1500 suburban 2wd|  5.3|2008|  8|  auto(l4)|  r| 14| 20|  r|    suv|\n",
      "|   chevrolet|c1500 suburban 2wd|  5.3|2008|  8|  auto(l4)|  r| 11| 15|  e|    suv|\n",
      "+------------+------------------+-----+----+---+----------+---+---+---+---+-------+\n",
      "only showing top 20 rows\n",
      "\n"
     ]
    }
   ],
   "source": [
    "# return only auto or manual\n",
    "# mpg.filter(sqlFunc.col(\"trans\"))\n",
    "mpg.filter(sqlFunc.col(\"trans\").like(\"%auto%\") | sqlFunc.col(\"trans\").like(\"%manual%\")).show()"
   ]
  },
  {
   "cell_type": "markdown",
   "id": "37800160-8edf-4d77-8854-dc6d92725097",
   "metadata": {},
   "source": [
    "### Load the tips dataset as a spark dataframe.\n",
    "\n",
    "- What percentage of observations are smokers?\n",
    "- Create a column that contains the tip percentage\n",
    "- Calculate the average tip percentage for each combination of sex and smoker."
   ]
  },
  {
   "cell_type": "code",
   "execution_count": 12,
   "id": "8f53b5bb-e558-4ae4-935f-7091e9f8fd2d",
   "metadata": {},
   "outputs": [
    {
     "name": "stdout",
     "output_type": "stream",
     "text": [
      "+----------+----+------+------+---+------+----+\n",
      "|total_bill| tip|   sex|smoker|day|  time|size|\n",
      "+----------+----+------+------+---+------+----+\n",
      "|     16.99|1.01|Female|    No|Sun|Dinner|   2|\n",
      "|     10.34|1.66|  Male|    No|Sun|Dinner|   3|\n",
      "|     21.01| 3.5|  Male|    No|Sun|Dinner|   3|\n",
      "|     23.68|3.31|  Male|    No|Sun|Dinner|   2|\n",
      "|     24.59|3.61|Female|    No|Sun|Dinner|   4|\n",
      "+----------+----+------+------+---+------+----+\n",
      "only showing top 5 rows\n",
      "\n"
     ]
    }
   ],
   "source": [
    "tips = sp.createDataFrame(data(\"tips\"))\n",
    "tips.show(5)"
   ]
  },
  {
   "cell_type": "code",
   "execution_count": 13,
   "id": "7ab1da90-3202-4a50-824f-b725a23c01d4",
   "metadata": {},
   "outputs": [
    {
     "name": "stdout",
     "output_type": "stream",
     "text": [
      "+------+\n",
      "|smoker|\n",
      "+------+\n",
      "|    No|\n",
      "|   Yes|\n",
      "+------+\n",
      "\n"
     ]
    }
   ],
   "source": [
    "# get the distinc values of smoker colum\n",
    "tips.select(tips.smoker).distinct().show()"
   ]
  },
  {
   "cell_type": "code",
   "execution_count": 14,
   "id": "4bf45598-a21d-4e4e-9efd-fb3233c9be41",
   "metadata": {},
   "outputs": [
    {
     "name": "stdout",
     "output_type": "stream",
     "text": [
      "+-------------------+\n",
      "|      (count / 244)|\n",
      "+-------------------+\n",
      "| 0.6188524590163934|\n",
      "|0.38114754098360654|\n",
      "+-------------------+\n",
      "\n"
     ]
    }
   ],
   "source": [
    "# get percentage of the value counts\n",
    "smoker_counts = tips.select(tips.smoker).groupby(\"smoker\").count()\n",
    "smoker_counts.select(smoker_counts[\"count\"] / tips.count()).show()"
   ]
  },
  {
   "cell_type": "markdown",
   "id": "ea6ff841-37a7-4f65-98a1-d760d4f838f2",
   "metadata": {},
   "source": [
    "### Use the seattle weather dataset referenced in the lesson to answer the questions below.\n",
    "\n",
    "- Convert the temperatures to fahrenheit.\n",
    "- Which month has the most rain, on average?\n",
    "- Which year was the windiest?\n",
    "- What is the most frequent type of weather in January?\n",
    "- What is the average high and low temperature on sunny days in July in 2013 and 2014?\n",
    "- What percentage of days were rainy in q3 of 2015?\n",
    "- For each year, find what percentage of days it rained (had non-zero precipitation)."
   ]
  },
  {
   "cell_type": "code",
   "execution_count": 15,
   "id": "e353c5fb-1c9d-41a3-98dc-ccb70973c5e6",
   "metadata": {},
   "outputs": [
    {
     "name": "stdout",
     "output_type": "stream",
     "text": [
      "+-------------------+-------------+--------+--------+----+-------+\n",
      "|               date|precipitation|temp_max|temp_min|wind|weather|\n",
      "+-------------------+-------------+--------+--------+----+-------+\n",
      "|2012-01-01 00:00:00|          0.0|    12.8|     5.0| 4.7|drizzle|\n",
      "|2012-01-02 00:00:00|         10.9|    10.6|     2.8| 4.5|   rain|\n",
      "|2012-01-03 00:00:00|          0.8|    11.7|     7.2| 2.3|   rain|\n",
      "|2012-01-04 00:00:00|         20.3|    12.2|     5.6| 4.7|   rain|\n",
      "|2012-01-05 00:00:00|          1.3|     8.9|     2.8| 6.1|   rain|\n",
      "|2012-01-06 00:00:00|          2.5|     4.4|     2.2| 2.2|   rain|\n",
      "|2012-01-07 00:00:00|          0.0|     7.2|     2.8| 2.3|   rain|\n",
      "|2012-01-08 00:00:00|          0.0|    10.0|     2.8| 2.0|    sun|\n",
      "|2012-01-09 00:00:00|          4.3|     9.4|     5.0| 3.4|   rain|\n",
      "|2012-01-10 00:00:00|          1.0|     6.1|     0.6| 3.4|   rain|\n",
      "|2012-01-11 00:00:00|          0.0|     6.1|    -1.1| 5.1|    sun|\n",
      "|2012-01-12 00:00:00|          0.0|     6.1|    -1.7| 1.9|    sun|\n",
      "|2012-01-13 00:00:00|          0.0|     5.0|    -2.8| 1.3|    sun|\n",
      "|2012-01-14 00:00:00|          4.1|     4.4|     0.6| 5.3|   snow|\n",
      "|2012-01-15 00:00:00|          5.3|     1.1|    -3.3| 3.2|   snow|\n",
      "|2012-01-16 00:00:00|          2.5|     1.7|    -2.8| 5.0|   snow|\n",
      "|2012-01-17 00:00:00|          8.1|     3.3|     0.0| 5.6|   snow|\n",
      "|2012-01-18 00:00:00|         19.8|     0.0|    -2.8| 5.0|   snow|\n",
      "|2012-01-19 00:00:00|         15.2|    -1.1|    -2.8| 1.6|   snow|\n",
      "|2012-01-20 00:00:00|         13.5|     7.2|    -1.1| 2.3|   snow|\n",
      "+-------------------+-------------+--------+--------+----+-------+\n",
      "only showing top 20 rows\n",
      "\n"
     ]
    }
   ],
   "source": [
    "weather = sp.createDataFrame(vdata(\"seattle_weather\"))\n",
    "weather.show()"
   ]
  },
  {
   "cell_type": "code",
   "execution_count": 17,
   "id": "da9bd7d7-8b90-47b1-b33b-92279c6c1595",
   "metadata": {},
   "outputs": [
    {
     "name": "stdout",
     "output_type": "stream",
     "text": [
      "+-------------------+-------------+--------+--------+----+-------+-----+----+---+\n",
      "|               date|precipitation|temp_max|temp_min|wind|weather|month|year|day|\n",
      "+-------------------+-------------+--------+--------+----+-------+-----+----+---+\n",
      "|2012-01-01 00:00:00|          0.0|    12.8|     5.0| 4.7|drizzle|    1|2012|  1|\n",
      "|2012-01-02 00:00:00|         10.9|    10.6|     2.8| 4.5|   rain|    1|2012|  2|\n",
      "|2012-01-03 00:00:00|          0.8|    11.7|     7.2| 2.3|   rain|    1|2012|  3|\n",
      "|2012-01-04 00:00:00|         20.3|    12.2|     5.6| 4.7|   rain|    1|2012|  4|\n",
      "|2012-01-05 00:00:00|          1.3|     8.9|     2.8| 6.1|   rain|    1|2012|  5|\n",
      "+-------------------+-------------+--------+--------+----+-------+-----+----+---+\n",
      "only showing top 5 rows\n",
      "\n"
     ]
    }
   ],
   "source": [
    "# create a month column\n",
    "weather = weather.withColumn(\"month\",sqlFunc.month(\"date\"))\n",
    "weather = weather.withColumn(\"year\",sqlFunc.year(\"date\"))\n",
    "weather = weather.withColumn(\"day\", sqlFunc.dayofmonth(\"date\"))\n",
    "weather.show(5)"
   ]
  },
  {
   "cell_type": "code",
   "execution_count": 18,
   "id": "681f087a-5863-43c1-b368-2f54c541de99",
   "metadata": {},
   "outputs": [
    {
     "name": "stdout",
     "output_type": "stream",
     "text": [
      "+-------------------+-------------+--------+--------+----+-------+-----+----+---+------------------+----------+\n",
      "|               date|precipitation|temp_max|temp_min|wind|weather|month|year|day|        F_temp_max|F_temp_min|\n",
      "+-------------------+-------------+--------+--------+----+-------+-----+----+---+------------------+----------+\n",
      "|2012-01-01 00:00:00|          0.0|    12.8|     5.0| 4.7|drizzle|    1|2012|  1|55.040000000000006|      41.0|\n",
      "|2012-01-02 00:00:00|         10.9|    10.6|     2.8| 4.5|   rain|    1|2012|  2|             51.08|     37.04|\n",
      "|2012-01-03 00:00:00|          0.8|    11.7|     7.2| 2.3|   rain|    1|2012|  3|             53.06|     44.96|\n",
      "|2012-01-04 00:00:00|         20.3|    12.2|     5.6| 4.7|   rain|    1|2012|  4|             53.96|     42.08|\n",
      "|2012-01-05 00:00:00|          1.3|     8.9|     2.8| 6.1|   rain|    1|2012|  5|48.019999999999996|     37.04|\n",
      "+-------------------+-------------+--------+--------+----+-------+-----+----+---+------------------+----------+\n",
      "only showing top 5 rows\n",
      "\n"
     ]
    }
   ],
   "source": [
    "# Convert the temperatures to fahrenheit.\n",
    "weather = weather.withColumn(\"F_temp_max\", (weather['temp_max'] * (9/5)) + 32)\n",
    "weather = weather.withColumn(\"F_temp_min\", (weather['temp_min'] * (9/5)) + 32)\n",
    "weather.show(5)"
   ]
  },
  {
   "cell_type": "code",
   "execution_count": 24,
   "id": "a6b3fffd-063f-4d29-9134-f5c48b19a6c1",
   "metadata": {},
   "outputs": [
    {
     "name": "stdout",
     "output_type": "stream",
     "text": [
      "+-----+-----+\n",
      "|month|count|\n",
      "+-----+-----+\n",
      "|    1|   35|\n",
      "|    3|   37|\n",
      "|    5|   16|\n",
      "|    4|   20|\n",
      "|    2|   40|\n",
      "|    6|   19|\n",
      "|    9|    4|\n",
      "|    8|    6|\n",
      "|    7|   14|\n",
      "|   10|   20|\n",
      "|   12|   23|\n",
      "|   11|   25|\n",
      "+-----+-----+\n",
      "\n"
     ]
    }
   ],
   "source": [
    "# Which month has the most rain, on average?\n",
    "rains = weather.filter(sqlFunc.col(\"weather\").like(\"%rain%\")) # find all row where weater conditions are rain\n",
    "rains.withColumn(\"month\",sqlFunc.month(\"date\")).groupby(\"month\").count().show()\n"
   ]
  },
  {
   "cell_type": "code",
   "execution_count": 25,
   "id": "565d830a-d825-4594-aef5-a509e896933f",
   "metadata": {},
   "outputs": [
    {
     "name": "stdout",
     "output_type": "stream",
     "text": [
      "+----+------------------+\n",
      "|year|sum(precipitation)|\n",
      "+----+------------------+\n",
      "|2012|1226.0000000000002|\n",
      "|2013| 828.0000000000002|\n",
      "|2014|1232.8000000000004|\n",
      "|2015|1139.1999999999998|\n",
      "+----+------------------+\n",
      "\n"
     ]
    }
   ],
   "source": [
    "# Which year was the windiest?\n",
    "weather.withColumn(\"year\",sqlFunc.year(\"date\")).groupby(\"year\").agg(sqlFunc.sum(\"precipitation\")).show()"
   ]
  },
  {
   "cell_type": "code",
   "execution_count": 26,
   "id": "19d63cea-e8f7-4228-93a2-a02cc8310eb5",
   "metadata": {},
   "outputs": [
    {
     "name": "stdout",
     "output_type": "stream",
     "text": [
      "+-------+-----+\n",
      "|weather|count|\n",
      "+-------+-----+\n",
      "|drizzle|   10|\n",
      "|   rain|   35|\n",
      "|    sun|   33|\n",
      "|   snow|    8|\n",
      "|    fog|   38|\n",
      "+-------+-----+\n",
      "\n"
     ]
    }
   ],
   "source": [
    "# What is the most frequent type of weather in January?\n",
    "weather.filter(weather[\"month\"] == 1).groupby(\"weather\").count().show()"
   ]
  },
  {
   "cell_type": "code",
   "execution_count": 27,
   "id": "f978c717-993d-46c6-bfc2-ccdce423427d",
   "metadata": {},
   "outputs": [
    {
     "name": "stdout",
     "output_type": "stream",
     "text": [
      "+----+------------------+------------------+\n",
      "|year|     avg(temp_max)|     avg(temp_min)|\n",
      "+----+------------------+------------------+\n",
      "|2013|16.058904109589037| 8.153972602739726|\n",
      "|2014|            27.092|14.400000000000002|\n",
      "+----+------------------+------------------+\n",
      "\n"
     ]
    }
   ],
   "source": [
    "# What is the average high and low temperature on sunny days in July in 2013 and 2014?\n",
    "weather.filter((weather[\"year\"] == 2013) | (weather[\"year\"] == 2014)\\\n",
    "               & (weather[\"month\"] == 7) & (sqlFunc.col(\"weather\").like(\"%sun%\"))).groupby(\\\n",
    "                                                                                          \"year\").agg(\\\n",
    "                                                                                      sqlFunc.avg(weather.temp_max), sqlFunc.avg(weather.temp_min)).show()\n",
    "                                                                                                                                                                                                                    "
   ]
  },
  {
   "cell_type": "code",
   "execution_count": 32,
   "id": "adc2cad4-a4cf-4373-af01-74311c4adea3",
   "metadata": {},
   "outputs": [
    {
     "name": "stdout",
     "output_type": "stream",
     "text": [
      "+---+-----+\n",
      "|day|count|\n",
      "+---+-----+\n",
      "| 31|    5|\n",
      "| 28|    7|\n",
      "| 26|    9|\n",
      "| 12|    6|\n",
      "| 22|    9|\n",
      "|  1|    6|\n",
      "| 13|    5|\n",
      "|  6|    8|\n",
      "| 16|    8|\n",
      "|  3|    8|\n",
      "| 20|    7|\n",
      "|  5|    6|\n",
      "| 15|    8|\n",
      "| 17|    6|\n",
      "|  9|    7|\n",
      "|  4|    9|\n",
      "|  8|    9|\n",
      "| 23|    7|\n",
      "|  7|    6|\n",
      "| 25|    6|\n",
      "+---+-----+\n",
      "only showing top 20 rows\n",
      "\n"
     ]
    }
   ],
   "source": [
    "# What percentage of days were rainy in q3 of 2015?\n",
    "weather.filter((weather[\"year\"] == 2015) & (weather[\"precipitation\"] == 0)).groupby(\"day\").count().show()"
   ]
  },
  {
   "cell_type": "code",
   "execution_count": 33,
   "id": "2cad927f-1e31-43dc-bdb3-a69310cfbde7",
   "metadata": {},
   "outputs": [],
   "source": [
    "# What percentage of days were rainy in q3 of 2015?\n",
    "rainny = weather.filter((weather[\"year\"] == 2015) & (\\\n",
    "                                            weather[\"precipitation\"] == 0)).groupby(\\\n",
    "                                                                                    \"day\").count()"
   ]
  },
  {
   "cell_type": "code",
   "execution_count": 38,
   "id": "09342bbd-66f0-448a-9c8e-afd41c992410",
   "metadata": {},
   "outputs": [
    {
     "name": "stdout",
     "output_type": "stream",
     "text": [
      "+---+-----+--------------------+\n",
      "|day|count|          percentage|\n",
      "+---+-----+--------------------+\n",
      "| 31|    5|  0.0136986301369863|\n",
      "| 28|    7|0.019178082191780823|\n",
      "| 26|    9|0.024657534246575342|\n",
      "| 12|    6| 0.01643835616438356|\n",
      "| 22|    9|0.024657534246575342|\n",
      "|  1|    6| 0.01643835616438356|\n",
      "| 13|    5|  0.0136986301369863|\n",
      "|  6|    8|0.021917808219178082|\n",
      "| 16|    8|0.021917808219178082|\n",
      "|  3|    8|0.021917808219178082|\n",
      "| 20|    7|0.019178082191780823|\n",
      "|  5|    6| 0.01643835616438356|\n",
      "| 15|    8|0.021917808219178082|\n",
      "| 17|    6| 0.01643835616438356|\n",
      "|  9|    7|0.019178082191780823|\n",
      "|  4|    9|0.024657534246575342|\n",
      "|  8|    9|0.024657534246575342|\n",
      "| 23|    7|0.019178082191780823|\n",
      "|  7|    6| 0.01643835616438356|\n",
      "| 25|    6| 0.01643835616438356|\n",
      "+---+-----+--------------------+\n",
      "only showing top 20 rows\n",
      "\n"
     ]
    }
   ],
   "source": [
    "rainny.withColumn(\"percentage\", rainny[\"count\"] / 365).show()"
   ]
  }
 ],
 "metadata": {
  "kernelspec": {
   "display_name": "Python 3 (ipykernel)",
   "language": "python",
   "name": "python3"
  },
  "language_info": {
   "codemirror_mode": {
    "name": "ipython",
    "version": 3
   },
   "file_extension": ".py",
   "mimetype": "text/x-python",
   "name": "python",
   "nbconvert_exporter": "python",
   "pygments_lexer": "ipython3",
   "version": "3.10.9"
  }
 },
 "nbformat": 4,
 "nbformat_minor": 5
}
