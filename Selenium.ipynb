{
 "cells": [
  {
   "cell_type": "markdown",
   "id": "a3775c4f-2ea0-458c-81fa-46d60744afc5",
   "metadata": {},
   "source": [
    "# Download github files with SELENIUM"
   ]
  },
  {
   "cell_type": "markdown",
   "id": "1ede528f-417b-4d85-859c-defd66c05cb9",
   "metadata": {},
   "source": [
    "**Terminal Commands**"
   ]
  },
  {
   "cell_type": "code",
   "execution_count": 7,
   "id": "57cb33ea-2b90-4e0c-86bf-508006c41b8e",
   "metadata": {},
   "outputs": [],
   "source": [
    "# !pip install selenium\n",
    "# pip install webdriver-manager\n",
    "# !pip install chromedriver_autoinstaller\n",
    "# !pip install selenium webdriver-manager\n",
    "\n",
    "# Set environment variables in the terminal\n",
    "# echo \"export githubUSER='MigashaneVictoire'\" >> ~/.zshrc && source ~/.zshrc\n",
    "# echo \"export githubPSWD='Securep@ssw0rd123'\" >> ~/.zshrc && source ~/.zshrc\n",
    "\n",
    "# !printenv githubUSER\n",
    "# !printenv githubPSWD"
   ]
  },
  {
   "cell_type": "markdown",
   "id": "9fc1a162-d3da-45fc-9568-3641cec2232b",
   "metadata": {},
   "source": [
    "**imports**"
   ]
  },
  {
   "cell_type": "code",
   "execution_count": 8,
   "id": "8d5b3e48-a220-455f-a1e4-10de6f842218",
   "metadata": {},
   "outputs": [],
   "source": [
    "from selenium import webdriver\n",
    "import chromedriver_autoinstaller\n",
    "from selenium.webdriver.chrome.service import Service\n",
    "from selenium.webdriver.common.keys import Keys\n",
    "from selenium.webdriver.common.by import By\n",
    "from selenium.webdriver.common.action_chains import ActionChains\n",
    "from selenium.webdriver.support.ui import Select, WebDriverWait\n",
    "from selenium.webdriver.support import expected_conditions as EC\n",
    "\n",
    "from webdriver_manager.chrome import ChromeDriverManager\n",
    "\n",
    "import time as t\n",
    "import os"
   ]
  },
  {
   "cell_type": "markdown",
   "id": "42abcf8c-ce7f-4741-8688-16270d020901",
   "metadata": {},
   "source": [
    "**Variables**"
   ]
  },
  {
   "cell_type": "code",
   "execution_count": 10,
   "id": "8a1de3cc-f30a-4a63-ba5f-8d24a043caa5",
   "metadata": {},
   "outputs": [],
   "source": [
    "# Get the github username and token saved earlier in the environment\n",
    "github_username = os.environ.get('githubUSER')\n",
    "github_token = os.environ.get('githubPSWD')"
   ]
  },
  {
   "cell_type": "code",
   "execution_count": 11,
   "id": "68777ce0-07f1-4c88-a339-e1bed55bfb13",
   "metadata": {},
   "outputs": [
    {
     "data": {
      "text/plain": [
       "'MigashaneVictoire'"
      ]
     },
     "execution_count": 11,
     "metadata": {},
     "output_type": "execute_result"
    }
   ],
   "source": [
    "github_username"
   ]
  },
  {
   "cell_type": "code",
   "execution_count": 12,
   "id": "edd41694-5a91-4176-b3fb-1fec958531e9",
   "metadata": {
    "tags": []
   },
   "outputs": [
    {
     "name": "stderr",
     "output_type": "stream",
     "text": [
      "/var/folders/jq/1gsqwxz13gxf_lpnwb_27r0c0000gn/T/ipykernel_45098/632751298.py:2: DeprecationWarning: executable_path has been deprecated, please pass in a Service object\n",
      "  driver = webdriver.Chrome(ChromeDriverManager().install())\n"
     ]
    }
   ],
   "source": [
    "# # Install and use the latest version of ChromeDriver\n",
    "driver = webdriver.Chrome(ChromeDriverManager().install())"
   ]
  },
  {
   "cell_type": "code",
   "execution_count": null,
   "id": "6f24e86e-33fe-40cf-af3b-1a524a9ca179",
   "metadata": {},
   "outputs": [],
   "source": []
  },
  {
   "cell_type": "code",
   "execution_count": null,
   "id": "a19b2bec-68fd-4c43-8e21-5356417b7f20",
   "metadata": {},
   "outputs": [],
   "source": []
  },
  {
   "cell_type": "code",
   "execution_count": null,
   "id": "6f33722d-e1e2-4a01-9f33-8d7321efa4e0",
   "metadata": {},
   "outputs": [],
   "source": []
  }
 ],
 "metadata": {
  "kernelspec": {
   "display_name": "Python 3 (ipykernel)",
   "language": "python",
   "name": "python3"
  },
  "language_info": {
   "codemirror_mode": {
    "name": "ipython",
    "version": 3
   },
   "file_extension": ".py",
   "mimetype": "text/x-python",
   "name": "python",
   "nbconvert_exporter": "python",
   "pygments_lexer": "ipython3",
   "version": "3.10.9"
  }
 },
 "nbformat": 4,
 "nbformat_minor": 5
}
